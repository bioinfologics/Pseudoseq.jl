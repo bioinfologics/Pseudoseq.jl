{
 "cells": [
  {
   "cell_type": "markdown",
   "source": [
    "# Example: long, single end reads\n",
    "\n",
    "This is an example generated from this source\n",
    "file: [`se-example.jl`](https://github.com/bioinfologics/Pseudoseq.jl/blob/master/examples/sequencing/se-example.jl)\n",
    "You are seeing the\n",
    "jupyter notebook version. The corresponding online documentation page can\n",
    "be found here: [`se-example.html`](https://bioinfologics.github.io/Pseudoseq.jl/latest/examples/sequencing/se-example),\n",
    "and the script can be found here: [`se-example.jl`](./se-example.jl)"
   ],
   "metadata": {}
  },
  {
   "cell_type": "markdown",
   "source": [
    "Let's see how you might simulate something like an Oxford Nanopore sequencing\n",
    "experiment.\n",
    "\n",
    "For the simulation we are going to:\n",
    "\n",
    "1. Create a pool of 5000 copies of a reference genome.\n",
    "2. Fragment the DNA molecules in the pool, to an average length of 40,000bp.\n",
    "3. Subsample the molecules in the pool to achieve approximatly 30x coverage.\n",
    "4. Create a set of single-end reads, the enitre length of each molecule.\n",
    "5. Apply errors to the reads at a rate of 0.10 (1 error every 10bp).\n",
    "6. Generate an output FASTQ file."
   ],
   "metadata": {}
  },
  {
   "outputs": [],
   "cell_type": "code",
   "source": [
    "using Pseudoseq.Sequencing"
   ],
   "metadata": {},
   "execution_count": 1
  },
  {
   "cell_type": "markdown",
   "source": [
    "Starting with a FASTA formatted file containing the genome we want to sequence,\n",
    "we create a pool with a copy of the genome."
   ],
   "metadata": {}
  },
  {
   "outputs": [
    {
     "output_type": "execute_result",
     "data": {
      "text/plain": "Pool of 1 DNA molecules:\n All molecules are of the same size: 4639675\n"
     },
     "metadata": {},
     "execution_count": 2
    }
   ],
   "cell_type": "code",
   "source": [
    "m = Molecules(\"ecoli-ref.fasta\")"
   ],
   "metadata": {},
   "execution_count": 2
  },
  {
   "cell_type": "markdown",
   "source": [
    "We want to first have 5000 full copies of the genome, so we will make an amplifier."
   ],
   "metadata": {}
  },
  {
   "outputs": [
    {
     "output_type": "execute_result",
     "data": {
      "text/plain": "Pseudoseq.Sequencing.Amplifier{Pseudoseq.Sequencing.var\"#5#6\"}(Pseudoseq.Sequencing.var\"#5#6\"(), 5000)"
     },
     "metadata": {},
     "execution_count": 3
    }
   ],
   "cell_type": "code",
   "source": [
    "amp = amplify(5000)"
   ],
   "metadata": {},
   "execution_count": 3
  },
  {
   "cell_type": "markdown",
   "source": [
    "Next we want a fragmenter to make a pool of shorter DNA molecules, with an average\n",
    "length of 40,000bp."
   ],
   "metadata": {}
  },
  {
   "outputs": [
    {
     "output_type": "execute_result",
     "data": {
      "text/plain": "Pseudoseq.Sequencing.Fragmenter(40000)"
     },
     "metadata": {},
     "execution_count": 4
    }
   ],
   "cell_type": "code",
   "source": [
    "frag = fragment(40000bp)"
   ],
   "metadata": {},
   "execution_count": 4
  },
  {
   "cell_type": "markdown",
   "source": [
    "Next we create a subsampler which will randomly sample molecules, to give us\n",
    "a desired expected coverage. We specify 40000bp as our predicted average read\n",
    "length."
   ],
   "metadata": {}
  },
  {
   "outputs": [
    {
     "output_type": "execute_result",
     "data": {
      "text/plain": "Pseudoseq.Sequencing.CovSubSampler{Pseudoseq.Sequencing.SequenceLength}(50X sequencing coverage\n, 40000 base pairs\n)"
     },
     "metadata": {},
     "execution_count": 5
    }
   ],
   "cell_type": "code",
   "source": [
    "ssmpl = subsample(50X, 40000bp)"
   ],
   "metadata": {},
   "execution_count": 5
  },
  {
   "cell_type": "markdown",
   "source": [
    "We then want a read-maker that will give us single end reads.\n",
    "Since we call `makereads` without providing a read length, the function will\n",
    "generate reads from the entire length of each molecule in the pool. We do this\n",
    "to emulate what Nanopore sequencing is supposed to do: It takes an entire DNA\n",
    "fragment, feeds it through an electrically charged pore, producing a read for\n",
    "the entire fragment."
   ],
   "metadata": {}
  },
  {
   "outputs": [
    {
     "output_type": "execute_result",
     "data": {
      "text/plain": "Pseudoseq.Sequencing.UnPairedReads{Nothing}(nothing)"
     },
     "metadata": {},
     "execution_count": 6
    }
   ],
   "cell_type": "code",
   "source": [
    "readmaker = makereads()"
   ],
   "metadata": {},
   "execution_count": 6
  },
  {
   "cell_type": "markdown",
   "source": [
    "Once we have reads, we will mark positions in the reads that are incorrectly\n",
    "detected by the sequencer: errors.\n",
    "We will construct a `FixedProbSubstitutions` function with a per base error\n",
    "probability of 0.1 and pass it to the `make_substitutions` method.\n",
    "This will make errors fall totally randomly over each read."
   ],
   "metadata": {}
  },
  {
   "outputs": [
    {
     "output_type": "execute_result",
     "data": {
      "text/plain": "Pseudoseq.Sequencing.SubstitutionMaker{FixedProbSubstitutions}(FixedProbSubstitutions(0.1))"
     },
     "metadata": {},
     "execution_count": 7
    }
   ],
   "cell_type": "code",
   "source": [
    "errmaker = make_substitutions(FixedProbSubstitutions(0.1))"
   ],
   "metadata": {},
   "execution_count": 7
  },
  {
   "cell_type": "markdown",
   "source": [
    "Now we can push our molecules through a pipeline of these processors, and out\n",
    "to a FASTQ file:"
   ],
   "metadata": {}
  },
  {
   "outputs": [
    {
     "name": "stdout",
     "output_type": "stream",
     "text": [
      "┌ Info: - ✔ Wrote 5799 single end reads to FASTQ file\n",
      "└ @ Pseudoseq.Sequencing /home/runner/work/Pseudoseq.jl/Pseudoseq.jl/src/sequencing/Reads.jl:242\n"
     ]
    },
    {
     "output_type": "execute_result",
     "data": {
      "text/plain": ""
     },
     "metadata": {},
     "execution_count": 8
    }
   ],
   "cell_type": "code",
   "source": [
    "m |> amp |> frag |> ssmpl |> readmaker |> errmaker |> generate(\"se-reads.fastq\")"
   ],
   "metadata": {},
   "execution_count": 8
  },
  {
   "cell_type": "markdown",
   "source": [
    "You can also compose the processors together into one whole function.\n",
    "Typing \\circ in the julia repl and then hitting tab gives you the circular\n",
    "composition symbol. Note how pipelining above progresses from left to right,\n",
    "but composition is right to left in order."
   ],
   "metadata": {}
  },
  {
   "outputs": [
    {
     "name": "stdout",
     "output_type": "stream",
     "text": [
      "┌ Info: - ✔ Wrote 5799 single end reads to FASTQ file\n",
      "└ @ Pseudoseq.Sequencing /home/runner/work/Pseudoseq.jl/Pseudoseq.jl/src/sequencing/Reads.jl:242\n"
     ]
    },
    {
     "output_type": "execute_result",
     "data": {
      "text/plain": ""
     },
     "metadata": {},
     "execution_count": 9
    }
   ],
   "cell_type": "code",
   "source": [
    "my_protocol = errmaker ∘ readmaker ∘ ssmpl ∘ frag ∘ amp\n",
    "\n",
    "m |> my_protocol |> generate(\"se-reads.fastq\")"
   ],
   "metadata": {},
   "execution_count": 9
  },
  {
   "cell_type": "markdown",
   "source": [
    "---\n",
    "\n",
    "*This notebook was generated using [Literate.jl](https://github.com/fredrikekre/Literate.jl).*"
   ],
   "metadata": {}
  }
 ],
 "nbformat_minor": 3,
 "metadata": {
  "language_info": {
   "file_extension": ".jl",
   "mimetype": "application/julia",
   "name": "julia",
   "version": "1.5.1"
  },
  "kernelspec": {
   "name": "julia-1.5",
   "display_name": "Julia 1.5.1",
   "language": "julia"
  }
 },
 "nbformat": 4
}
