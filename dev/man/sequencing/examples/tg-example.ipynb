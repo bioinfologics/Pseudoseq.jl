{
 "cells": [
  {
   "cell_type": "markdown",
   "source": [
    "# Example: tagged paired-end reads\n",
    "\n",
    "This is an example generated from this source\n",
    "file: [`tg-example.jl`](https://github.com/bioinfologics/Pseudoseq.jl/blob/master/examples/sequencing/tg-example.jl)\n",
    "You are seeing the\n",
    "jupyter notebook version. The corresponding online documentation page can\n",
    "be found here: [`tg-example.html`](https://bioinfologics.github.io/Pseudoseq.jl/latest/examples/sequencing/tg-example),\n",
    "and the script can be found here: [`tg-example.jl`](./tg-example.jl)"
   ],
   "metadata": {}
  },
  {
   "cell_type": "markdown",
   "source": [
    "Let's see how we might simulate something like an 10x sequencing experiment.\n",
    "\n",
    "For this simulation script we will:\n",
    "\n",
    "1. Create a pool of 5000 copies of a reference genome.\n",
    "2. Fragment the DNA molecules in the pool, to an average length of 40,000bp.\n",
    "3. Tag the long molecules in the pool randomly with a set of 1,000,000 tags.\n",
    "4. Fragment the molecules in the pool to an average length of 700bp.\n",
    "5. Subsample the molecules in the pool to achieve approximatly 50x coverage.\n",
    "6. Create a set of 250bp paired-end reads.\n",
    "7. Apply errors to the paired-end reads at a rate of 0.001 (.1%).\n",
    "8. Generate an output FASTQ file."
   ],
   "metadata": {}
  },
  {
   "outputs": [],
   "cell_type": "code",
   "source": [
    "using Pseudoseq.Sequencing"
   ],
   "metadata": {},
   "execution_count": 1
  },
  {
   "cell_type": "markdown",
   "source": [
    "Let's start with a pool of 5000 copies of a genome contained in a FASTA file:"
   ],
   "metadata": {}
  },
  {
   "outputs": [
    {
     "output_type": "execute_result",
     "data": {
      "text/plain": "Pool of 1 DNA molecules:\n All molecules are of the same size: 4639675\n"
     },
     "metadata": {},
     "execution_count": 2
    }
   ],
   "cell_type": "code",
   "source": [
    "m = Molecules(\"ecoli-ref.fasta\")"
   ],
   "metadata": {},
   "execution_count": 2
  },
  {
   "cell_type": "markdown",
   "source": [
    "We want to first have 5000 full copies of the genome, so we will make an amplifier."
   ],
   "metadata": {}
  },
  {
   "outputs": [
    {
     "output_type": "execute_result",
     "data": {
      "text/plain": "Pseudoseq.Sequencing.Amplifier{Pseudoseq.Sequencing.var\"#5#6\"}(Pseudoseq.Sequencing.var\"#5#6\"(), 5000)"
     },
     "metadata": {},
     "execution_count": 3
    }
   ],
   "cell_type": "code",
   "source": [
    "amp = amplify(5000)"
   ],
   "metadata": {},
   "execution_count": 3
  },
  {
   "cell_type": "markdown",
   "source": [
    "Next we want a fragmenter to make a pool of shorter DNA molecules, with an average\n",
    "length of 40,000bp."
   ],
   "metadata": {}
  },
  {
   "outputs": [
    {
     "output_type": "execute_result",
     "data": {
      "text/plain": "Pseudoseq.Sequencing.Fragmenter(40000)"
     },
     "metadata": {},
     "execution_count": 4
    }
   ],
   "cell_type": "code",
   "source": [
    "firstfrag = fragment(40000bp)"
   ],
   "metadata": {},
   "execution_count": 4
  },
  {
   "cell_type": "markdown",
   "source": [
    "Ok, now we want to assign random tags to these large fragments.\n",
    "Once you tag a molecule any other molecules that are derived from that tagged\n",
    "molecule will inherit the same tag.\n",
    "Our tagger will have a pool of 1,000,000 distinct tags.\n",
    "Which fragment gets a certain tag is random.\n",
    "The size of the tag pool, and the number of fragments in your universe will\n",
    "determine how likely it is that any two fragments get the same tag."
   ],
   "metadata": {}
  },
  {
   "outputs": [
    {
     "output_type": "execute_result",
     "data": {
      "text/plain": "Pseudoseq.Sequencing.Tagger(1000000)"
     },
     "metadata": {},
     "execution_count": 5
    }
   ],
   "cell_type": "code",
   "source": [
    "tagger = tag(1000000)"
   ],
   "metadata": {},
   "execution_count": 5
  },
  {
   "cell_type": "markdown",
   "source": [
    "We'll want to fragment the molecules again to even shorter lengths."
   ],
   "metadata": {}
  },
  {
   "outputs": [
    {
     "output_type": "execute_result",
     "data": {
      "text/plain": "Pseudoseq.Sequencing.Fragmenter(700)"
     },
     "metadata": {},
     "execution_count": 6
    }
   ],
   "cell_type": "code",
   "source": [
    "secondfrag = fragment(700bp)"
   ],
   "metadata": {},
   "execution_count": 6
  },
  {
   "cell_type": "markdown",
   "source": [
    "We will want a filter to make sure no extreme sized molecules make their way through."
   ],
   "metadata": {}
  },
  {
   "outputs": [
    {
     "output_type": "execute_result",
     "data": {
      "text/plain": "Pseudoseq.Sequencing.Selector{Main.##258.var\"#1#2\"}(Main.##258.var\"#1#2\"())"
     },
     "metadata": {},
     "execution_count": 7
    }
   ],
   "cell_type": "code",
   "source": [
    "size_filter = select(x -> 900 >= length(x) >= 450)"
   ],
   "metadata": {},
   "execution_count": 7
  },
  {
   "cell_type": "markdown",
   "source": [
    "Next we create a subsampler which will randomly sample molecules, to give us\n",
    "a desired expected coverage. We will want our reads to be 250bp in length."
   ],
   "metadata": {}
  },
  {
   "outputs": [
    {
     "output_type": "execute_result",
     "data": {
      "text/plain": "Pseudoseq.Sequencing.CovSubSampler{Tuple{Pseudoseq.Sequencing.SequenceLength,Pseudoseq.Sequencing.SequenceLength}}(50X sequencing coverage\n, (250 base pairs\n, 250 base pairs\n))"
     },
     "metadata": {},
     "execution_count": 8
    }
   ],
   "cell_type": "code",
   "source": [
    "ssmpl = subsample(50X, 2 * 250bp)"
   ],
   "metadata": {},
   "execution_count": 8
  },
  {
   "cell_type": "markdown",
   "source": [
    "We then want a read-maker that will give us paired end reads. We want our\n",
    "reads to be 250bp in length."
   ],
   "metadata": {}
  },
  {
   "outputs": [
    {
     "output_type": "execute_result",
     "data": {
      "text/plain": "Pseudoseq.Sequencing.PairedReads(250, 250)"
     },
     "metadata": {},
     "execution_count": 9
    }
   ],
   "cell_type": "code",
   "source": [
    "readmaker = makereads(2 * 250bp)"
   ],
   "metadata": {},
   "execution_count": 9
  },
  {
   "cell_type": "markdown",
   "source": [
    "Once we have reads, we will mark positions in the reads that are incorrectly\n",
    "detected by the sequencer: errors.\n",
    "We will construct a `FixedProbSubstitutions` function with a per base error\n",
    "probability of 0.001 and pass it to the `make_substitutions` method.\n",
    "This will make errors fall totally randomly over each read."
   ],
   "metadata": {}
  },
  {
   "outputs": [
    {
     "output_type": "execute_result",
     "data": {
      "text/plain": "Pseudoseq.Sequencing.SubstitutionMaker{FixedProbSubstitutions}(FixedProbSubstitutions(0.001))"
     },
     "metadata": {},
     "execution_count": 10
    }
   ],
   "cell_type": "code",
   "source": [
    "errmaker = make_substitutions(FixedProbSubstitutions(0.001))"
   ],
   "metadata": {},
   "execution_count": 10
  },
  {
   "cell_type": "markdown",
   "source": [
    "Now we can push our molecules through a pipeline of these processors, and out\n",
    "to a FASTQ file:"
   ],
   "metadata": {}
  },
  {
   "outputs": [
    {
     "name": "stdout",
     "output_type": "stream",
     "text": [
      "┌ Info: Attaching 1000000 tags randomly to each molecule in pool...\n",
      "└ @ Pseudoseq.Sequencing /home/runner/work/Pseudoseq.jl/Pseudoseq.jl/src/sequencing/Molecules.jl:271\n",
      "┌ Info: Done\n",
      "└ @ Pseudoseq.Sequencing /home/runner/work/Pseudoseq.jl/Pseudoseq.jl/src/sequencing/Molecules.jl:273\n",
      "┌ Info: - ✔ Wrote 927934 tagged paired end reads to FASTQ file\n",
      "└ @ Pseudoseq.Sequencing /home/runner/work/Pseudoseq.jl/Pseudoseq.jl/src/sequencing/Reads.jl:320\n"
     ]
    },
    {
     "output_type": "execute_result",
     "data": {
      "text/plain": ""
     },
     "metadata": {},
     "execution_count": 11
    }
   ],
   "cell_type": "code",
   "source": [
    "m |> amp |> firstfrag |> tagger |> secondfrag |> size_filter |> ssmpl |> readmaker |> errmaker |> generate(\"tagged_reads.fastq\")"
   ],
   "metadata": {},
   "execution_count": 11
  },
  {
   "cell_type": "markdown",
   "source": [
    "You can also compose the processors together into one whole function.\n",
    "Typing \\circ in the julia repl and then hitting tab gives you the circular\n",
    "composition symbol. Note how pipelining above progresses from left to right,\n",
    "but composition is right to left in order."
   ],
   "metadata": {}
  },
  {
   "outputs": [
    {
     "name": "stdout",
     "output_type": "stream",
     "text": [
      "┌ Info: Attaching 1000000 tags randomly to each molecule in pool...\n",
      "└ @ Pseudoseq.Sequencing /home/runner/work/Pseudoseq.jl/Pseudoseq.jl/src/sequencing/Molecules.jl:271\n",
      "┌ Info: Done\n",
      "└ @ Pseudoseq.Sequencing /home/runner/work/Pseudoseq.jl/Pseudoseq.jl/src/sequencing/Molecules.jl:273\n",
      "┌ Info: - ✔ Wrote 927934 tagged paired end reads to FASTQ file\n",
      "└ @ Pseudoseq.Sequencing /home/runner/work/Pseudoseq.jl/Pseudoseq.jl/src/sequencing/Reads.jl:320\n"
     ]
    },
    {
     "output_type": "execute_result",
     "data": {
      "text/plain": ""
     },
     "metadata": {},
     "execution_count": 12
    }
   ],
   "cell_type": "code",
   "source": [
    "my_protocol = errmaker ∘ readmaker ∘ ssmpl ∘ size_filter ∘ secondfrag ∘ tagger ∘ firstfrag ∘ amp\n",
    "\n",
    "m |> my_protocol |> generate(\"tagged_reads.fastq\")"
   ],
   "metadata": {},
   "execution_count": 12
  },
  {
   "cell_type": "markdown",
   "source": [
    "---\n",
    "\n",
    "*This notebook was generated using [Literate.jl](https://github.com/fredrikekre/Literate.jl).*"
   ],
   "metadata": {}
  }
 ],
 "nbformat_minor": 3,
 "metadata": {
  "language_info": {
   "file_extension": ".jl",
   "mimetype": "application/julia",
   "name": "julia",
   "version": "1.5.1"
  },
  "kernelspec": {
   "name": "julia-1.5",
   "display_name": "Julia 1.5.1",
   "language": "julia"
  }
 },
 "nbformat": 4
}
