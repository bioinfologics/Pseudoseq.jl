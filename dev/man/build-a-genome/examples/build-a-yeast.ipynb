{
 "cells": [
  {
   "outputs": [],
   "cell_type": "markdown",
   "source": [
    "# Example: Build-a-Yeast\n",
    "\n",
    "This is an example generated from this source\n",
    "file: [`build-a-yeast.jl`](https://github.com/bioinfologics/Pseudoseq.jl/blob/masterexamples/build-a-genome/build-a-yeast.jl)\n",
    "You are seeing the\n",
    "jupyter notebook version. The corresponding online documentation page can\n",
    "be found here: [`build-a-yeast.html`](https://bioinfologics.github.io/Pseudoseq.jl/dev/examples/build-a-genome/build-a-yeast),\n",
    "and the script can be found here: [`build-a-yeast.jl`](./build-a-yeast.jl)"
   ],
   "metadata": {}
  },
  {
   "outputs": [],
   "cell_type": "markdown",
   "source": [
    "We are going to use Pseudoseq to create a simple set of fake genomes, based on\n",
    "chromosome 1 of the reference genome for yeast.\n",
    "\n",
    "1. Load the sequence of chromosome 1 of the yeast reference from FASTA file.\n",
    "2. Create blank chromosome blueprints for different genome designs.\n",
    "3. Edit the blueprints to achive a:\n",
    "   a. Diploid chromosome\n",
    "   b. Triploid chromosome\n",
    "   c. Tetraploid chromosome"
   ],
   "metadata": {}
  },
  {
   "outputs": [],
   "cell_type": "code",
   "source": [
    "using FASTX, BioSequences, Pseudoseq"
   ],
   "metadata": {},
   "execution_count": 1
  },
  {
   "outputs": [],
   "cell_type": "markdown",
   "source": [
    "## Load the seed sequence\n",
    "\n",
    "First load the sequence from FASTA file. This uses tools from FASTX,\n",
    "which is a dependency of Pseudoseq and so the user should have it available,\n",
    "as julia's package manager would have installed any dependencies.\n",
    "The lines below open a fasta file, with a fasta reader, and load a single\n",
    "FASTA record, and get its sequence."
   ],
   "metadata": {}
  },
  {
   "outputs": [
    {
     "output_type": "execute_result",
     "data": {
      "text/plain": "230218"
     },
     "metadata": {},
     "execution_count": 2
    }
   ],
   "cell_type": "code",
   "source": [
    "refseq = open(FASTA.Reader, \"yeast-chr1.fasta\") do rdr\n",
    "    FASTA.sequence(LongSequence{DNAAlphabet{2}}, read(rdr))\n",
    "end\n",
    "\n",
    "reflen = length(refseq)"
   ],
   "metadata": {},
   "execution_count": 2
  },
  {
   "outputs": [],
   "cell_type": "markdown",
   "source": [
    "This results in a 230,218nt long sequence called `refseq`.\n",
    "\n",
    "## Designing a diploid\n",
    "\n",
    "First lets make a plan for a diploid genome with 1% heterozygosity.\n",
    "Pseudoseq has a lot of flexibilty in how you can define the heterozygosity,\n",
    "but for ease here I'm going to let it decide where the sites should be, and\n",
    "what the alleles at each site should be, by calling `plan_het`,\n",
    "providing just the proportion of sites I want to be heterozygous, and the\n",
    "number of alleles I want at each of these heterozygous sites (2)."
   ],
   "metadata": {}
  },
  {
   "outputs": [
    {
     "output_type": "execute_result",
     "data": {
      "text/plain": "Specification for a chromosome:\n Number of copies: 2\n Length of chromosomes: 230218\n 227916bp available in the following stretches:\n"
     },
     "metadata": {},
     "execution_count": 3
    }
   ],
   "cell_type": "code",
   "source": [
    "dploid = plan_chrom(reflen, 2)\n",
    "dploidhet = plan_het(dploid, .01, 2)"
   ],
   "metadata": {},
   "execution_count": 3
  },
  {
   "outputs": [],
   "cell_type": "markdown",
   "source": [
    "Now fabricate the FASTA, with `fabricate`, providing a filename, and then a\n",
    "series of `blueprint => seed` pairs. In this case we just give 1 blueprint-seed"
   ],
   "metadata": {}
  },
  {
   "outputs": [
    {
     "name": "stdout",
     "output_type": "stream",
     "text": [
      "┌ Info: Opening FASTA file at: build-a-yeast-di.fasta\n",
      "└ @ Pseudoseq /home/runner/.julia/packages/Pseudoseq/Na8Ki/src/build_a_genome/fabrication.jl:12\n",
      "┌ Info: Fabricated 1 chromosomes and written to file\n",
      "└ @ Pseudoseq /home/runner/.julia/packages/Pseudoseq/Na8Ki/src/build_a_genome/fabrication.jl:38\n"
     ]
    }
   ],
   "cell_type": "code",
   "source": [
    "# pair.\n",
    "\n",
    "fabricate(\"build-a-yeast-di.fasta\", dploidhet => refseq)"
   ],
   "metadata": {},
   "execution_count": 4
  },
  {
   "outputs": [],
   "cell_type": "markdown",
   "source": [
    "Thats it for the diploid genome.\n",
    "\n",
    "## Designing a triploid\n",
    "\n",
    "Now let's make a triploid genome. This should also be simple enough. It's much\n",
    "like the process for making the diploid genome, but specifying 3 chromosome\n",
    "copies instead of 2."
   ],
   "metadata": {}
  },
  {
   "outputs": [
    {
     "output_type": "execute_result",
     "data": {
      "text/plain": "Specification for a chromosome:\n Number of copies: 3\n Length of chromosomes: 230218\n 230218bp available in the following stretches:\n"
     },
     "metadata": {},
     "execution_count": 5
    }
   ],
   "cell_type": "code",
   "source": [
    "trploid = plan_chrom(reflen, 3)"
   ],
   "metadata": {},
   "execution_count": 5
  },
  {
   "outputs": [],
   "cell_type": "markdown",
   "source": [
    "When I add some heterozygous sites, just like with the diploid case, I'm going\n",
    "to simply ask for a proportion of heterozygous sites (and let Pseudoseq decide\n",
    "where they should occur. Like last time also I'm going to make all the sites have 2\n",
    "alleles, so for every heterozygous site, two of the three chromosome copies\n",
    "willl have the same base, and one of the copies will be different. There are\n",
    "other ways to define some heterozygous sites for example all 3 chromosome copies\n",
    "could have different bases"
   ],
   "metadata": {}
  },
  {
   "outputs": [
    {
     "output_type": "execute_result",
     "data": {
      "text/plain": "Specification for a chromosome:\n Number of copies: 3\n Length of chromosomes: 230218\n 227916bp available in the following stretches:\n"
     },
     "metadata": {},
     "execution_count": 6
    }
   ],
   "cell_type": "code",
   "source": [
    "trploidhet = plan_het(trploid, .01, 2)"
   ],
   "metadata": {},
   "execution_count": 6
  },
  {
   "outputs": [],
   "cell_type": "markdown",
   "source": [
    "Now fabricate the FASTA, with `fabricate`, providing a filename, and then a\n",
    "series of `blueprint => seed` pairs. In this case we just give 1 blueprint-seed"
   ],
   "metadata": {}
  },
  {
   "outputs": [
    {
     "name": "stdout",
     "output_type": "stream",
     "text": [
      "┌ Info: Opening FASTA file at: build-a-yeast-tri.fasta\n",
      "└ @ Pseudoseq /home/runner/.julia/packages/Pseudoseq/Na8Ki/src/build_a_genome/fabrication.jl:12\n",
      "┌ Info: Fabricated 1 chromosomes and written to file\n",
      "└ @ Pseudoseq /home/runner/.julia/packages/Pseudoseq/Na8Ki/src/build_a_genome/fabrication.jl:38\n"
     ]
    }
   ],
   "cell_type": "code",
   "source": [
    "# pair.\n",
    "\n",
    "fabricate(\"build-a-yeast-tri.fasta\", trploidhet => refseq)"
   ],
   "metadata": {},
   "execution_count": 7
  },
  {
   "outputs": [],
   "cell_type": "markdown",
   "source": [
    "That's it for the triploid genome.\n",
    "\n",
    "## Designing a tetraploid genome\n",
    "\n",
    "Lets make a tetraploid genome, that consists of two diploid genomes, an A\n",
    "genome and a B genome.\n",
    "First I'm going to create a chromosome blueprint with 4 copies:"
   ],
   "metadata": {}
  },
  {
   "outputs": [
    {
     "output_type": "execute_result",
     "data": {
      "text/plain": "Specification for a chromosome:\n Number of copies: 4\n Length of chromosomes: 230218\n 230218bp available in the following stretches:\n"
     },
     "metadata": {},
     "execution_count": 8
    }
   ],
   "cell_type": "code",
   "source": [
    "tetploid = plan_chrom(reflen, 4)"
   ],
   "metadata": {},
   "execution_count": 8
  },
  {
   "outputs": [],
   "cell_type": "markdown",
   "source": [
    "We want to plan the heterozygosity in this tetraploid such that the\n",
    "number of heterozygous sites within the A and B genomes is ~1%. But we want\n",
    "~3% of sites to be heterozygous between the A and B genomes.\n",
    "\n",
    "First we will say copies 1 + 2 in our blueprint are the A genome, and copies\n",
    "3 + 4 are the B genome. Next consider heterozygous sites with 2 different alleles,\n",
    "A and B, 6 different patterns are possible:\n",
    "\n",
    "| Copy 1 | Copy 2 | Copy 3 | Copy 4 |\n",
    "|:------:|:------:|:------:|:------:|\n",
    "| A      | A      | B      | B      |\n",
    "| B      | B      | A      | A      |\n",
    "| A      | B      | A      | B      |\n",
    "| B      | A      | B      | A      |\n",
    "| A      | B      | B      | A      |\n",
    "| B      | A      | A      | B      |\n",
    "\n",
    "The first 2 patterns in the table constitute fixed mutations between\n",
    "genomes A and B,\n",
    "but not polymorphism within genomes A and B. This is because Copy 1 and 3 differ,\n",
    "as do copies 2 and 4, yet copies 1 and 2 are the same, as are copies 3 and 4.\n",
    "To achieve a ~3% divergence between genomes A and B, let's plan some\n",
    "divergent mutations by grouping the copy numbers together when planning some\n",
    "heterozygous sites:"
   ],
   "metadata": {}
  },
  {
   "outputs": [
    {
     "output_type": "execute_result",
     "data": {
      "text/plain": "Specification for a chromosome:\n Number of copies: 4\n Length of chromosomes: 230218\n 223312bp available in the following stretches:\n"
     },
     "metadata": {},
     "execution_count": 9
    }
   ],
   "cell_type": "code",
   "source": [
    "thet = plan_het(tetploid, .03, [1, 2], [3, 4])"
   ],
   "metadata": {},
   "execution_count": 9
  },
  {
   "outputs": [],
   "cell_type": "markdown",
   "source": [
    "By using the groups `[1, 2]` and `[3, 4]` we ensure chromosome copy 1 and 2\n",
    "will have the same allele, as will chromosomes 3 and 4"
   ],
   "metadata": {}
  },
  {
   "outputs": [],
   "cell_type": "markdown",
   "source": [
    "Next we'll just add some of the other heterozygosity patterns to achieve the\n",
    "1% internal heterozygosity desired. We'll use a heterozygosity pattern with\n",
    "two states."
   ],
   "metadata": {}
  },
  {
   "outputs": [
    {
     "name": "stdout",
     "output_type": "stream",
     "text": [
      "┌ Info: Opening FASTA file at: build-a-yeast-tet.fasta\n",
      "└ @ Pseudoseq /home/runner/.julia/packages/Pseudoseq/Na8Ki/src/build_a_genome/fabrication.jl:12\n",
      "┌ Info: Fabricated 1 chromosomes and written to file\n",
      "└ @ Pseudoseq /home/runner/.julia/packages/Pseudoseq/Na8Ki/src/build_a_genome/fabrication.jl:38\n"
     ]
    }
   ],
   "cell_type": "code",
   "source": [
    "thet = plan_het(thet, .01, [1, 3], [2, 4])\n",
    "\n",
    "fabricate(\"build-a-yeast-tet.fasta\", thet => refseq)"
   ],
   "metadata": {},
   "execution_count": 10
  },
  {
   "outputs": [],
   "cell_type": "markdown",
   "source": [
    "---\n",
    "\n",
    "*This notebook was generated using [Literate.jl](https://github.com/fredrikekre/Literate.jl).*"
   ],
   "metadata": {}
  }
 ],
 "nbformat_minor": 3,
 "metadata": {
  "language_info": {
   "file_extension": ".jl",
   "mimetype": "application/julia",
   "name": "julia",
   "version": "1.2.0"
  },
  "kernelspec": {
   "name": "julia-1.2",
   "display_name": "Julia 1.2.0",
   "language": "julia"
  }
 },
 "nbformat": 4
}
