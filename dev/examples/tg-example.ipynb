{
 "cells": [
  {
   "outputs": [],
   "cell_type": "markdown",
   "source": [
    "# Example: tagged paired-end reads\n",
    "\n",
    "This is an example generated from this source\n",
    "file: [`tg-example.jl`](https://github.com/bioinfologics/Pseudoseq.jl/blob/master/examples/tg-example.jl)\n",
    "You are seeing the\n",
    "jupyter notebook version. The corresponding online documentation page can\n",
    "be found here: [`tg-example.html`](https://bioinfologics.github.io/dev/examples/tg-example.html),\n",
    "and the script can be found here: [`tg-example.jl`](./tg-example.jl)"
   ],
   "metadata": {}
  },
  {
   "outputs": [],
   "cell_type": "markdown",
   "source": [
    "Let's see how we might simulate something like an 10x sequencing experiment.\n",
    "\n",
    "For this simulation script we will:\n",
    "\n",
    "1. Create a pool of 5000 copies of a reference genome.\n",
    "2. Fragment the DNA molecules in the pool, to an average length of 40,000bp.\n",
    "3. Tag the long molecules in the pool randomly with a set of 1,000,000 tags.\n",
    "4. Fragment the molecules in the pool to an average length of 700bp.\n",
    "5. Subsample the molecules in the pool to achieve approximatly 50x coverage.\n",
    "6. Create a set of 250bp paired-end reads.\n",
    "7. Apply errors to the paired-end reads at a rate of 0.001 (.1%).\n",
    "8. Generate an output FASTQ file."
   ],
   "metadata": {}
  },
  {
   "outputs": [
    {
     "name": "stdout",
     "output_type": "stream",
     "text": [
      "┌ Info: Reading FASTA file...\n",
      "└ @ Pseudoseq /home/travis/build/bioinfologics/Pseudoseq.jl/src/pool.jl:38\n",
      "┌ Info: Creating pool...\n",
      "└ @ Pseudoseq /home/travis/build/bioinfologics/Pseudoseq.jl/src/pool.jl:16\n",
      "┌ Info: Populating pool with 5000 copies of the genome...\n",
      "└ @ Pseudoseq /home/travis/build/bioinfologics/Pseudoseq.jl/src/pool.jl:21\n",
      "┌ Info: Done\n",
      "└ @ Pseudoseq /home/travis/build/bioinfologics/Pseudoseq.jl/src/pool.jl:25\n",
      "┌ Info: Fragmenting molecules in pool...\n",
      "└ @ Pseudoseq /home/travis/build/bioinfologics/Pseudoseq.jl/src/pool.jl:126\n",
      "┌ Info: Done\n",
      "└ @ Pseudoseq /home/travis/build/bioinfologics/Pseudoseq.jl/src/pool.jl:128\n"
     ]
    },
    {
     "output_type": "execute_result",
     "data": {
      "text/plain": "Pool of 575000 molecules:\n Maximum molecule size: 553888\n Average molecule size: 40345\n Minimum molecule size: 1\n"
     },
     "metadata": {},
     "execution_count": 1
    }
   ],
   "cell_type": "code",
   "source": [
    "using Pseudoseq\n",
    "\n",
    "dnapool = makepool(\"ecoli-ref.fasta\", 5000)\n",
    "cutpool = fragment(dnapool, 40000)"
   ],
   "metadata": {},
   "execution_count": 1
  },
  {
   "outputs": [],
   "cell_type": "markdown",
   "source": [
    "Ok, now we will tag these large fragments randomly.\n",
    "Once you tag a fragment in a universe, any other fragments that\n",
    "are derived from that tagged fragment will inherit the same tag."
   ],
   "metadata": {}
  },
  {
   "outputs": [
    {
     "name": "stdout",
     "output_type": "stream",
     "text": [
      "┌ Info: Attaching 1000000 tags randomly to each molecule in pool...\n",
      "└ @ Pseudoseq /home/travis/build/bioinfologics/Pseudoseq.jl/src/pool.jl:176\n",
      "┌ Info: Done\n",
      "└ @ Pseudoseq /home/travis/build/bioinfologics/Pseudoseq.jl/src/pool.jl:178\n"
     ]
    },
    {
     "output_type": "execute_result",
     "data": {
      "text/plain": "Pool of 575000 molecules:\n Maximum molecule size: 553888\n Average molecule size: 40345\n Minimum molecule size: 1\n Number of distinct tags: 437474\n"
     },
     "metadata": {},
     "execution_count": 2
    }
   ],
   "cell_type": "code",
   "source": [
    "taggedpool = tag(cutpool, 1000000)"
   ],
   "metadata": {},
   "execution_count": 2
  },
  {
   "outputs": [],
   "cell_type": "markdown",
   "source": [
    "Here I'm going to use a pool of 1,000,000 distinct tags.\n",
    "Which fragment gets a certain tag is random.\n",
    "The size of the tag pool, and the number of fragments in your universe will\n",
    "determine how likely it is that any two fragments get the same tag.\n",
    "Now we'll fragment the pool again"
   ],
   "metadata": {}
  },
  {
   "outputs": [
    {
     "name": "stdout",
     "output_type": "stream",
     "text": [
      "┌ Info: Fragmenting molecules in pool...\n",
      "└ @ Pseudoseq /home/travis/build/bioinfologics/Pseudoseq.jl/src/pool.jl:126\n",
      "┌ Info: Done\n",
      "└ @ Pseudoseq /home/travis/build/bioinfologics/Pseudoseq.jl/src/pool.jl:128\n"
     ]
    },
    {
     "output_type": "execute_result",
     "data": {
      "text/plain": "Pool of 32863848 molecules:\n Maximum molecule size: 11176\n Average molecule size: 705\n Minimum molecule size: 1\n Number of distinct tags: 437474\n"
     },
     "metadata": {},
     "execution_count": 3
    }
   ],
   "cell_type": "code",
   "source": [
    "taggedcutpool = fragment(taggedpool, 700)"
   ],
   "metadata": {},
   "execution_count": 3
  },
  {
   "outputs": [],
   "cell_type": "markdown",
   "source": [
    "Subsample the pool of tagged molecules."
   ],
   "metadata": {}
  },
  {
   "outputs": [
    {
     "name": "stdout",
     "output_type": "stream",
     "text": [
      "┌ Info: Subsampling molecules in pool...\n",
      "└ @ Pseudoseq /home/travis/build/bioinfologics/Pseudoseq.jl/src/pool.jl:147\n",
      "┌ Info: Done\n",
      "└ @ Pseudoseq /home/travis/build/bioinfologics/Pseudoseq.jl/src/pool.jl:149\n"
     ]
    },
    {
     "output_type": "execute_result",
     "data": {
      "text/plain": "Pool of 463967 molecules:\n Maximum molecule size: 10443\n Average molecule size: 705\n Minimum molecule size: 1\n Number of distinct tags: 227105\n"
     },
     "metadata": {},
     "execution_count": 4
    }
   ],
   "cell_type": "code",
   "source": [
    "genome_size = 4639675\n",
    "expected_coverage = 50\n",
    "read_length = 250\n",
    "\n",
    "N = needed_sample_size(expected_coverage, genome_size, read_length)\n",
    "N = div(N, 2) # Divide by 2 as we're doing paired end sequencing.\n",
    "\n",
    "sampledpool = subsample(taggedcutpool, N)"
   ],
   "metadata": {},
   "execution_count": 4
  },
  {
   "outputs": [],
   "cell_type": "markdown",
   "source": [
    "Now let's make some 250bp tagged paired reads and generate some erroneous\n",
    "positions."
   ],
   "metadata": {}
  },
  {
   "outputs": [
    {
     "name": "stdout",
     "output_type": "stream",
     "text": [
      "┌ Info: Marking 163530 bases in the set of reads as errors...\n",
      "└ @ Pseudoseq /home/travis/build/bioinfologics/Pseudoseq.jl/src/reads.jl:50\n",
      "┌ Info: Done...\n",
      "└ @ Pseudoseq /home/travis/build/bioinfologics/Pseudoseq.jl/src/reads.jl:52\n"
     ]
    },
    {
     "output_type": "execute_result",
     "data": {
      "text/plain": ""
     },
     "metadata": {},
     "execution_count": 5
    }
   ],
   "cell_type": "code",
   "source": [
    "tagged_reads = make_reads(TaggedPairs, sampledpool, 250)\n",
    "tagged_w_errs = mark_errors(tagged_reads, 0.001)"
   ],
   "metadata": {},
   "execution_count": 5
  },
  {
   "outputs": [],
   "cell_type": "markdown",
   "source": [
    "Output to FASTQ:"
   ],
   "metadata": {}
  },
  {
   "outputs": [
    {
     "name": "stdout",
     "output_type": "stream",
     "text": [
      "┌ Info: Writing tagged paired end reads to FASTQ file...\n",
      "└ @ Pseudoseq /home/travis/build/bioinfologics/Pseudoseq.jl/src/reads.jl:365\n",
      "┌ Info: Done\n",
      "└ @ Pseudoseq /home/travis/build/bioinfologics/Pseudoseq.jl/src/reads.jl:404\n"
     ]
    }
   ],
   "cell_type": "code",
   "source": [
    "generate(\"tagged_reads.fastq\", tagged_w_errs)#-"
   ],
   "metadata": {},
   "execution_count": 6
  },
  {
   "outputs": [],
   "cell_type": "markdown",
   "source": [
    "*This notebook was generated using [Literate.jl](https://github.com/fredrikekre/Literate.jl).*"
   ],
   "metadata": {}
  }
 ],
 "nbformat_minor": 3,
 "metadata": {
  "language_info": {
   "file_extension": ".jl",
   "mimetype": "application/julia",
   "name": "julia",
   "version": "1.1.0"
  },
  "kernelspec": {
   "name": "julia-1.1",
   "display_name": "Julia 1.1.0",
   "language": "julia"
  }
 },
 "nbformat": 4
}
