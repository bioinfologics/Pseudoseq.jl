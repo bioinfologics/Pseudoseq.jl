{
 "cells": [
  {
   "outputs": [],
   "cell_type": "markdown",
   "source": [
    "# Example: tagged paired-end reads\n",
    "\n",
    "This is an example generated from this source\n",
    "file: [`tg-example.jl`](https://github.com/bioinfologics/Pseudoseq.jl/blob/master/examples/tg-example.jl)\n",
    "You are seeing the\n",
    "jupyter notebook version. The corresponding online documentation page can\n",
    "be found here: [`tg-example.html`](https://bioinfologics.github.io/Pseudoseq.jl/latest/examples/tg-example),\n",
    "and the script can be found here: [`tg-example.jl`](./tg-example.jl)"
   ],
   "metadata": {}
  },
  {
   "outputs": [],
   "cell_type": "markdown",
   "source": [
    "Let's see how we might simulate something like an 10x sequencing experiment.\n",
    "\n",
    "For this simulation script we will:\n",
    "\n",
    "1. Create a pool of 5000 copies of a reference genome.\n",
    "2. Fragment the DNA molecules in the pool, to an average length of 40,000bp.\n",
    "3. Tag the long molecules in the pool randomly with a set of 1,000,000 tags.\n",
    "4. Fragment the molecules in the pool to an average length of 700bp.\n",
    "5. Subsample the molecules in the pool to achieve approximatly 50x coverage.\n",
    "6. Create a set of 250bp paired-end reads.\n",
    "7. Apply errors to the paired-end reads at a rate of 0.001 (.1%).\n",
    "8. Generate an output FASTQ file."
   ],
   "metadata": {}
  },
  {
   "outputs": [],
   "cell_type": "code",
   "source": [
    "using Pseudoseq"
   ],
   "metadata": {},
   "execution_count": 1
  },
  {
   "outputs": [],
   "cell_type": "markdown",
   "source": [
    "## Using the `sequence` method\n",
    "\n",
    "First, let's see how we do this with the `sequence` method.\n",
    "The first two parameters we give to the function will be the input genome we\n",
    "want to sequence, and the destination FASTQ file for output reads.\n",
    "Here we are setting:\n",
    "- The number of genome copies in the molecule pool to 5,000.\n",
    "- The number of possible tags to one million.\n",
    "- The average fragment size, prior to tagging, to 40,000bp.\n",
    "- The average fragment size after tagging, to 700bp.\n",
    "- The sampling coverage to 50x.\n",
    "- The read length to 250bp.\n",
    "- The per base read error rate to 0.001.\n",
    "- The fact we want paired-ends of fragments to be read (`paired`) to true, which is the default."
   ],
   "metadata": {}
  },
  {
   "outputs": [
    {
     "name": "stdout",
     "output_type": "stream",
     "text": [
      "┌ Info: - ✔ Created pool of 5000 copies of a 4639675bp genome\n",
      "└ @ Pseudoseq /home/travis/build/bioinfologics/Pseudoseq.jl/src/sequence.jl:45\n",
      "┌ Info: - ✔ Created pool of fragments with an average length of 40000bp\n",
      "└ @ Pseudoseq /home/travis/build/bioinfologics/Pseudoseq.jl/src/sequence.jl:49\n",
      "┌ Info: Attaching 1000000 tags randomly to each molecule in pool...\n",
      "└ @ Pseudoseq /home/travis/build/bioinfologics/Pseudoseq.jl/src/pool.jl:166\n",
      "┌ Info: Done\n",
      "└ @ Pseudoseq /home/travis/build/bioinfologics/Pseudoseq.jl/src/pool.jl:168\n",
      "┌ Info: - ✔ Created pool of tagged fragments with an average length of 40000bp\n",
      "└ @ Pseudoseq /home/travis/build/bioinfologics/Pseudoseq.jl/src/sequence.jl:51\n",
      "┌ Info: - ✔ Created pool of fragments with an average length of 700bp\n",
      "└ @ Pseudoseq /home/travis/build/bioinfologics/Pseudoseq.jl/src/sequence.jl:55\n",
      "┌ Info: - ✔ Subsampled pool at 50X coverage (463967 molecules)\n",
      "└ @ Pseudoseq /home/travis/build/bioinfologics/Pseudoseq.jl/src/sequence.jl:62\n",
      "┌ Info: - ✔ Created set of 250bp paired-end reads\n",
      "└ @ Pseudoseq /home/travis/build/bioinfologics/Pseudoseq.jl/src/sequence.jl:66\n",
      "┌ Info: - ✔ Applied sequencing errors at a per-base rate of 0.1\n",
      "└ @ Pseudoseq /home/travis/build/bioinfologics/Pseudoseq.jl/src/sequence.jl:73\n",
      "┌ Info: - ✔ Wrote 654858 paired end reads to FASTQ file\n",
      "└ @ Pseudoseq /home/travis/build/bioinfologics/Pseudoseq.jl/src/reads.jl:214\n"
     ]
    },
    {
     "output_type": "execute_result",
     "data": {
      "text/plain": ""
     },
     "metadata": {},
     "execution_count": 2
    }
   ],
   "cell_type": "code",
   "source": [
    "sequence(\"ecoli-ref.fasta\", \"tagged_reads.fastq\"; ng = 5000, tusize = 1000000, taggedflen = 40000, flen = 700, cov = 50, rdlen = 250, err = 0.1)"
   ],
   "metadata": {},
   "execution_count": 2
  },
  {
   "outputs": [],
   "cell_type": "markdown",
   "source": [
    "## Using the Pseudoseq API\n",
    "\n",
    "Here's how to achieve the same thing, using the Pseudoseq API. It is nessecery to\n",
    "use the API if you want to do something that is not anticipated by the available\n",
    "functionality of the `sequence` method: the cost of conveinience is fewer options.\n",
    "\n",
    "Let's start with a pool of 5000 copies of a genome contained in a FASTA file:"
   ],
   "metadata": {}
  },
  {
   "outputs": [
    {
     "output_type": "execute_result",
     "data": {
      "text/plain": "Pool of 5000 molecules:\n All molecules are of the same size: 4639675\n"
     },
     "metadata": {},
     "execution_count": 3
    }
   ],
   "cell_type": "code",
   "source": [
    "dnapool = makepool(\"ecoli-ref.fasta\", 5000)"
   ],
   "metadata": {},
   "execution_count": 3
  },
  {
   "outputs": [],
   "cell_type": "markdown",
   "source": [
    "Now let's cut up the molecules to an average length of 40,000bp"
   ],
   "metadata": {}
  },
  {
   "outputs": [
    {
     "output_type": "execute_result",
     "data": {
      "text/plain": "Pool of 574999 molecules:\n Maximum molecule size: 602251\n Average molecule size: 40345\n Minimum molecule size: 1\n"
     },
     "metadata": {},
     "execution_count": 4
    }
   ],
   "cell_type": "code",
   "source": [
    "cutpool = fragment(dnapool, 40000)"
   ],
   "metadata": {},
   "execution_count": 4
  },
  {
   "outputs": [],
   "cell_type": "markdown",
   "source": [
    "Ok, now we will tag these large fragments randomly.\n",
    "Once you tag a fragment in a universe, any other fragments that\n",
    "are derived from that tagged fragment will inherit the same tag."
   ],
   "metadata": {}
  },
  {
   "outputs": [
    {
     "name": "stdout",
     "output_type": "stream",
     "text": [
      "┌ Info: Attaching 1000000 tags randomly to each molecule in pool...\n",
      "└ @ Pseudoseq /home/travis/build/bioinfologics/Pseudoseq.jl/src/pool.jl:166\n",
      "┌ Info: Done\n",
      "└ @ Pseudoseq /home/travis/build/bioinfologics/Pseudoseq.jl/src/pool.jl:168\n"
     ]
    },
    {
     "output_type": "execute_result",
     "data": {
      "text/plain": "Pool of 574999 molecules:\n Maximum molecule size: 602251\n Average molecule size: 40345\n Minimum molecule size: 1\n Number of distinct tags: 437197\n"
     },
     "metadata": {},
     "execution_count": 5
    }
   ],
   "cell_type": "code",
   "source": [
    "taggedpool = tag(cutpool, 1000000)"
   ],
   "metadata": {},
   "execution_count": 5
  },
  {
   "outputs": [],
   "cell_type": "markdown",
   "source": [
    "Here I'm going to use a pool of 1,000,000 distinct tags.\n",
    "Which fragment gets a certain tag is random.\n",
    "The size of the tag pool, and the number of fragments in your universe will\n",
    "determine how likely it is that any two fragments get the same tag.\n",
    "Now we'll fragment the pool again"
   ],
   "metadata": {}
  },
  {
   "outputs": [
    {
     "output_type": "execute_result",
     "data": {
      "text/plain": "Pool of 32863515 molecules:\n Maximum molecule size: 12269\n Average molecule size: 705\n Minimum molecule size: 1\n Number of distinct tags: 437197\n"
     },
     "metadata": {},
     "execution_count": 6
    }
   ],
   "cell_type": "code",
   "source": [
    "taggedcutpool = fragment(taggedpool, 700)"
   ],
   "metadata": {},
   "execution_count": 6
  },
  {
   "outputs": [],
   "cell_type": "markdown",
   "source": [
    "Subsample the pool of tagged molecules."
   ],
   "metadata": {}
  },
  {
   "outputs": [
    {
     "output_type": "execute_result",
     "data": {
      "text/plain": "Pool of 463967 molecules:\n Maximum molecule size: 11035\n Average molecule size: 705\n Minimum molecule size: 1\n Number of distinct tags: 227262\n"
     },
     "metadata": {},
     "execution_count": 7
    }
   ],
   "cell_type": "code",
   "source": [
    "genome_size = 4639675\n",
    "expected_coverage = 50\n",
    "read_length = 250\n",
    "\n",
    "N = needed_sample_size(expected_coverage, genome_size, read_length)\n",
    "N = div(N, 2) # Divide by 2 as we're doing paired end sequencing.\n",
    "\n",
    "sampledpool = subsample(taggedcutpool, N)"
   ],
   "metadata": {},
   "execution_count": 7
  },
  {
   "outputs": [],
   "cell_type": "markdown",
   "source": [
    "Now let's make some 250bp tagged paired reads and generate some erroneous\n",
    "positions."
   ],
   "metadata": {}
  },
  {
   "outputs": [
    {
     "output_type": "execute_result",
     "data": {
      "text/plain": ""
     },
     "metadata": {},
     "execution_count": 8
    }
   ],
   "cell_type": "code",
   "source": [
    "tagged_reads = make_reads(TaggedPairs, sampledpool, 250)\n",
    "tagged_w_errs = mark_errors(tagged_reads, 0.001)"
   ],
   "metadata": {},
   "execution_count": 8
  },
  {
   "outputs": [],
   "cell_type": "markdown",
   "source": [
    "Output to FASTQ:"
   ],
   "metadata": {}
  },
  {
   "outputs": [
    {
     "name": "stdout",
     "output_type": "stream",
     "text": [
      "┌ Info: - ✔ Wrote 653462 tagged paired end reads to FASTQ file\n",
      "└ @ Pseudoseq /home/travis/build/bioinfologics/Pseudoseq.jl/src/reads.jl:407\n"
     ]
    }
   ],
   "cell_type": "code",
   "source": [
    "generate(\"tagged_reads.fastq\", tagged_w_errs)#-"
   ],
   "metadata": {},
   "execution_count": 9
  },
  {
   "outputs": [],
   "cell_type": "markdown",
   "source": [
    "*This notebook was generated using [Literate.jl](https://github.com/fredrikekre/Literate.jl).*"
   ],
   "metadata": {}
  }
 ],
 "nbformat_minor": 3,
 "metadata": {
  "language_info": {
   "file_extension": ".jl",
   "mimetype": "application/julia",
   "name": "julia",
   "version": "1.1.0"
  },
  "kernelspec": {
   "name": "julia-1.1",
   "display_name": "Julia 1.1.0",
   "language": "julia"
  }
 },
 "nbformat": 4
}
