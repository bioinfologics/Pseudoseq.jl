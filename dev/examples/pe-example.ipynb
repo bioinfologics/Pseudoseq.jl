{
 "cells": [
  {
   "outputs": [],
   "cell_type": "markdown",
   "source": [
    "# Example: paired-end sequencing\n",
    "\n",
    "This is an example generated from this source\n",
    "file: [`pe-example.jl`](https://github.com/bioinfologics/Pseudoseq.jl/blob/master/examples/pe-example.jl)\n",
    "You are seeing the\n",
    "jupyter notebook version. The corresponding online documentation page can\n",
    "be found here: [`pe-example.html`](https://bioinfologics.github.io/Pseudoseq.jl/latest/examples/pe-example),\n",
    "and the script can be found here: [`pe-example.jl`](./pe-example.jl)"
   ],
   "metadata": {}
  },
  {
   "outputs": [],
   "cell_type": "markdown",
   "source": [
    "For the simulation we are going to:\n",
    "\n",
    "1. Create a pool of 5000 copies of a reference genome.\n",
    "2. Fragment the DNA molecules in the pool, to an average length of 700bp.\n",
    "3. Subsample the molecules in the pool to achieve approximatly 50x coverage.\n",
    "4. Create a set of 250bp paired-end reads.\n",
    "5. Apply errors to the paired-end reads at a rate of 0.001 (.1%).\n",
    "6. Generate an output FASTQ file."
   ],
   "metadata": {}
  },
  {
   "outputs": [],
   "cell_type": "code",
   "source": [
    "using Pseudoseq"
   ],
   "metadata": {},
   "execution_count": 1
  },
  {
   "outputs": [],
   "cell_type": "markdown",
   "source": [
    "Starting with a FASTA formatted file containing the genome we want to sequence,\n",
    "we create a pool with 5000 copies of the genome."
   ],
   "metadata": {}
  },
  {
   "outputs": [
    {
     "name": "stdout",
     "output_type": "stream",
     "text": [
      "┌ Info: Reading FASTA file...\n",
      "└ @ Pseudoseq /home/travis/build/bioinfologics/Pseudoseq.jl/src/pool.jl:38\n",
      "┌ Info: Creating pool...\n",
      "└ @ Pseudoseq /home/travis/build/bioinfologics/Pseudoseq.jl/src/pool.jl:16\n",
      "┌ Info: Populating pool with 5000 copies of the genome...\n",
      "└ @ Pseudoseq /home/travis/build/bioinfologics/Pseudoseq.jl/src/pool.jl:21\n",
      "┌ Info: Done\n",
      "└ @ Pseudoseq /home/travis/build/bioinfologics/Pseudoseq.jl/src/pool.jl:25\n"
     ]
    },
    {
     "output_type": "execute_result",
     "data": {
      "text/plain": "Pool of 5000 molecules:\n All molecules are of the same size: 4639675\n"
     },
     "metadata": {},
     "execution_count": 2
    }
   ],
   "cell_type": "code",
   "source": [
    "pool = makepool(\"ecoli-ref.fasta\", 5000)"
   ],
   "metadata": {},
   "execution_count": 2
  },
  {
   "outputs": [],
   "cell_type": "markdown",
   "source": [
    "Next we use the fragment function to make a pool of shorter DNA molecules."
   ],
   "metadata": {}
  },
  {
   "outputs": [
    {
     "name": "stdout",
     "output_type": "stream",
     "text": [
      "┌ Info: Fragmenting molecules in pool...\n",
      "└ @ Pseudoseq /home/travis/build/bioinfologics/Pseudoseq.jl/src/pool.jl:126\n",
      "┌ Info: Done\n",
      "└ @ Pseudoseq /home/travis/build/bioinfologics/Pseudoseq.jl/src/pool.jl:128\n"
     ]
    },
    {
     "output_type": "execute_result",
     "data": {
      "text/plain": "Pool of 33139998 molecules:\n Maximum molecule size: 11867\n Average molecule size: 700\n Minimum molecule size: 1\n"
     },
     "metadata": {},
     "execution_count": 3
    }
   ],
   "cell_type": "code",
   "source": [
    "cutpool = fragment(pool, 700)"
   ],
   "metadata": {},
   "execution_count": 3
  },
  {
   "outputs": [],
   "cell_type": "markdown",
   "source": [
    "We need to determine the number of molecules to sample, and subsample the pool:"
   ],
   "metadata": {}
  },
  {
   "outputs": [
    {
     "name": "stdout",
     "output_type": "stream",
     "text": [
      "┌ Info: Subsampling molecules in pool...\n",
      "└ @ Pseudoseq /home/travis/build/bioinfologics/Pseudoseq.jl/src/pool.jl:147\n",
      "┌ Info: Done\n",
      "└ @ Pseudoseq /home/travis/build/bioinfologics/Pseudoseq.jl/src/pool.jl:149\n"
     ]
    },
    {
     "output_type": "execute_result",
     "data": {
      "text/plain": "Pool of 463967 molecules:\n Maximum molecule size: 10558\n Average molecule size: 700\n Minimum molecule size: 1\n"
     },
     "metadata": {},
     "execution_count": 4
    }
   ],
   "cell_type": "code",
   "source": [
    "genome_size = 4639675\n",
    "expected_coverage = 50\n",
    "read_length = 250\n",
    "\n",
    "N = needed_sample_size(expected_coverage, genome_size, read_length)\n",
    "N = div(N, 2) # Divide by 2 as we're doing paired end sequencing.\n",
    "\n",
    "sampledpool = subsample(cutpool, N)"
   ],
   "metadata": {},
   "execution_count": 4
  },
  {
   "outputs": [],
   "cell_type": "markdown",
   "source": [
    "We now want to create a set of paired-end reads. We want our reads to be 250bp\n",
    "in length."
   ],
   "metadata": {}
  },
  {
   "outputs": [
    {
     "output_type": "execute_result",
     "data": {
      "text/plain": ""
     },
     "metadata": {},
     "execution_count": 5
    }
   ],
   "cell_type": "code",
   "source": [
    "pe_reads = make_reads(PairedEnd, sampledpool, 250)"
   ],
   "metadata": {},
   "execution_count": 5
  },
  {
   "outputs": [],
   "cell_type": "markdown",
   "source": [
    "Now we have some reads, we should mark positions in the reads that are destined\n",
    "to be errors in the output FASTQ."
   ],
   "metadata": {}
  },
  {
   "outputs": [
    {
     "name": "stdout",
     "output_type": "stream",
     "text": [
      "┌ Info: Marking 162210 bases in the set of reads as errors...\n",
      "└ @ Pseudoseq /home/travis/build/bioinfologics/Pseudoseq.jl/src/reads.jl:50\n",
      "┌ Info: Done...\n",
      "└ @ Pseudoseq /home/travis/build/bioinfologics/Pseudoseq.jl/src/reads.jl:52\n"
     ]
    },
    {
     "output_type": "execute_result",
     "data": {
      "text/plain": ""
     },
     "metadata": {},
     "execution_count": 6
    }
   ],
   "cell_type": "code",
   "source": [
    "pe_w_errs = mark_errors(pe_reads, 0.001)"
   ],
   "metadata": {},
   "execution_count": 6
  },
  {
   "outputs": [],
   "cell_type": "markdown",
   "source": [
    "Now we have some paired end reads and have marked some positions as errors, we\n",
    "can generate FASTQ files."
   ],
   "metadata": {}
  },
  {
   "outputs": [
    {
     "name": "stdout",
     "output_type": "stream",
     "text": [
      "┌ Info: Writing paired end reads to FASTQ...\n",
      "└ @ Pseudoseq /home/travis/build/bioinfologics/Pseudoseq.jl/src/reads.jl:189\n",
      "┌ Info: Done\n",
      "└ @ Pseudoseq /home/travis/build/bioinfologics/Pseudoseq.jl/src/reads.jl:215\n"
     ]
    }
   ],
   "cell_type": "code",
   "source": [
    "generate(\"pe-reads.fastq\", pe_w_errs)#-"
   ],
   "metadata": {},
   "execution_count": 7
  },
  {
   "outputs": [],
   "cell_type": "markdown",
   "source": [
    "*This notebook was generated using [Literate.jl](https://github.com/fredrikekre/Literate.jl).*"
   ],
   "metadata": {}
  }
 ],
 "nbformat_minor": 3,
 "metadata": {
  "language_info": {
   "file_extension": ".jl",
   "mimetype": "application/julia",
   "name": "julia",
   "version": "1.1.0"
  },
  "kernelspec": {
   "name": "julia-1.1",
   "display_name": "Julia 1.1.0",
   "language": "julia"
  }
 },
 "nbformat": 4
}
