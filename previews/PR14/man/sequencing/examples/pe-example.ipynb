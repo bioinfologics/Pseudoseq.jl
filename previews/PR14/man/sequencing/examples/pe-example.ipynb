{
 "cells": [
  {
   "outputs": [],
   "cell_type": "markdown",
   "source": [
    "# Example: paired-end sequencing\n",
    "\n",
    "This is an example generated from this source\n",
    "file: [`pe-example.jl`](https://github.com/bioinfologics/Pseudoseq.jl/blob/masterexamples/sequencing/pe-example.jl)\n",
    "You are seeing the\n",
    "jupyter notebook version. The corresponding online documentation page can\n",
    "be found here: [`pe-example.html`](https://bioinfologics.github.io/Pseudoseq.jl/latest/examples/sequencing/pe-example),\n",
    "and the script can be found here: [`pe-example.jl`](./pe-example.jl)"
   ],
   "metadata": {}
  },
  {
   "outputs": [],
   "cell_type": "markdown",
   "source": [
    "For the simulation we are going to:\n",
    "\n",
    "1. Create a pool of 5000 copies of a reference genome.\n",
    "2. Fragment the DNA molecules in the pool, to an average length of 700bp.\n",
    "3. Subsample the molecules in the pool to achieve approximatly 50x coverage.\n",
    "4. Create a set of 250bp paired-end reads.\n",
    "5. Apply errors to the paired-end reads at a rate of 0.001 (.1%).\n",
    "6. Generate an output FASTQ file."
   ],
   "metadata": {}
  },
  {
   "outputs": [],
   "cell_type": "code",
   "source": [
    "using Pseudoseq.Sequencing"
   ],
   "metadata": {},
   "execution_count": 1
  },
  {
   "outputs": [],
   "cell_type": "markdown",
   "source": [
    "## Using the `sequence` method\n",
    "\n",
    "First, let's see how we do this with the `sequence` method.\n",
    "The first two parameters we give to the function will be the input genome we\n",
    "want to sequence, and the destination FASTQ file for output reads.\n",
    "Here we are setting:\n",
    "- The number of genome copies in the molecule pool to 5000.\n",
    "- The average fragment size to 700bp.\n",
    "- The sampling coverage to 50x.\n",
    "- The read length to 250bp.\n",
    "- The per base read error rate to 0.001.\n",
    "- The fact we want paired-ends of fragments to be read (`paired`) to true."
   ],
   "metadata": {}
  },
  {
   "outputs": [
    {
     "name": "stdout",
     "output_type": "stream",
     "text": [
      "┌ Info: - ✔ Created pool of 5000 copies of a 4639675bp genome\n",
      "└ @ Pseudoseq.Sequencing /home/runner/.julia/packages/Pseudoseq/18MzR/src/sequencing/sequence.jl:45\n",
      "┌ Info: - ✔ Created pool of fragments with an average length of 700bp\n",
      "└ @ Pseudoseq.Sequencing /home/runner/.julia/packages/Pseudoseq/18MzR/src/sequencing/sequence.jl:55\n",
      "┌ Info: - ✔ Subsampled pool at 50X coverage (463967 molecules)\n",
      "└ @ Pseudoseq.Sequencing /home/runner/.julia/packages/Pseudoseq/18MzR/src/sequencing/sequence.jl:62\n",
      "┌ Info: - ✔ Created set of 250bp paired-end reads\n",
      "└ @ Pseudoseq.Sequencing /home/runner/.julia/packages/Pseudoseq/18MzR/src/sequencing/sequence.jl:66\n",
      "┌ Info: - ✔ Applied sequencing errors at a per-base rate of 0.001\n",
      "└ @ Pseudoseq.Sequencing /home/runner/.julia/packages/Pseudoseq/18MzR/src/sequencing/sequence.jl:73\n",
      "┌ Info: - ✔ Wrote 650408 paired end reads to FASTQ file\n",
      "└ @ Pseudoseq.Sequencing /home/runner/.julia/packages/Pseudoseq/18MzR/src/sequencing/Reads.jl:212\n"
     ]
    },
    {
     "output_type": "execute_result",
     "data": {
      "text/plain": ""
     },
     "metadata": {},
     "execution_count": 2
    }
   ],
   "cell_type": "code",
   "source": [
    "sequence(\"ecoli-ref.fasta\", \"pe-reads.fastq\"; ng = 5000, flen = 700, cov = 50, paired = true, rdlen = 250, err = 0.001)"
   ],
   "metadata": {},
   "execution_count": 2
  },
  {
   "outputs": [],
   "cell_type": "markdown",
   "source": [
    "## Using the `Molecules` tranformation methods.\n",
    "\n",
    "Here's how to achieve the same thing, using the Pseudoseq API. It is nessecery to\n",
    "use the API if you want to do something that is not anticipated by the available\n",
    "functionality of the `sequence` method: the cost of conveinience is fewer options.\n",
    "\n",
    "Starting with a FASTA formatted file containing the genome we want to sequence,\n",
    "we create a pool with 5000 copies of the genome."
   ],
   "metadata": {}
  },
  {
   "outputs": [
    {
     "output_type": "execute_result",
     "data": {
      "text/plain": "Pool of 5000 DNA molecules:\n All molecules are of the same size: 4639675\n"
     },
     "metadata": {},
     "execution_count": 3
    }
   ],
   "cell_type": "code",
   "source": [
    "pool = Molecules(\"ecoli-ref.fasta\", 5000)"
   ],
   "metadata": {},
   "execution_count": 3
  },
  {
   "outputs": [],
   "cell_type": "markdown",
   "source": [
    "Next we use the fragment function to make a pool of shorter DNA molecules."
   ],
   "metadata": {}
  },
  {
   "outputs": [
    {
     "output_type": "execute_result",
     "data": {
      "text/plain": "Pool of 33139993 DNA molecules:\n Maximum molecule size: 12077\n Average molecule size: 700\n Minimum molecule size: 1\n"
     },
     "metadata": {},
     "execution_count": 4
    }
   ],
   "cell_type": "code",
   "source": [
    "cutpool = fragment(pool, 700)"
   ],
   "metadata": {},
   "execution_count": 4
  },
  {
   "outputs": [],
   "cell_type": "markdown",
   "source": [
    "We need to determine the number of molecules to sample, and subsample the pool:"
   ],
   "metadata": {}
  },
  {
   "outputs": [
    {
     "output_type": "execute_result",
     "data": {
      "text/plain": "Pool of 463967 DNA molecules:\n Maximum molecule size: 8725\n Average molecule size: 701\n Minimum molecule size: 1\n"
     },
     "metadata": {},
     "execution_count": 5
    }
   ],
   "cell_type": "code",
   "source": [
    "genome_size = 4639675\n",
    "expected_coverage = 50\n",
    "read_length = 250\n",
    "\n",
    "N = needed_sample_size(expected_coverage, genome_size, read_length)\n",
    "N = div(N, 2) # Divide by 2 as we're doing paired end sequencing.\n",
    "\n",
    "sampledpool = subsample(cutpool, N)"
   ],
   "metadata": {},
   "execution_count": 5
  },
  {
   "outputs": [],
   "cell_type": "markdown",
   "source": [
    "We now want to create a set of paired-end reads. We want our reads to be 250bp\n",
    "in length."
   ],
   "metadata": {}
  },
  {
   "outputs": [
    {
     "output_type": "execute_result",
     "data": {
      "text/plain": ""
     },
     "metadata": {},
     "execution_count": 6
    }
   ],
   "cell_type": "code",
   "source": [
    "pe_reads = paired_reads(sampledpool, 250)"
   ],
   "metadata": {},
   "execution_count": 6
  },
  {
   "outputs": [],
   "cell_type": "markdown",
   "source": [
    "Now we have some reads, we should mark positions in the reads that are destined\n",
    "to be errors in the output FASTQ."
   ],
   "metadata": {}
  },
  {
   "outputs": [
    {
     "output_type": "execute_result",
     "data": {
      "text/plain": ""
     },
     "metadata": {},
     "execution_count": 7
    }
   ],
   "cell_type": "code",
   "source": [
    "pe_w_errs = mark_errors(pe_reads, 0.001)"
   ],
   "metadata": {},
   "execution_count": 7
  },
  {
   "outputs": [],
   "cell_type": "markdown",
   "source": [
    "Now we have some paired end reads and have marked some positions as errors, we\n",
    "can generate FASTQ files."
   ],
   "metadata": {}
  },
  {
   "outputs": [
    {
     "name": "stdout",
     "output_type": "stream",
     "text": [
      "┌ Info: - ✔ Wrote 648742 paired end reads to FASTQ file\n",
      "└ @ Pseudoseq.Sequencing /home/runner/.julia/packages/Pseudoseq/18MzR/src/sequencing/Reads.jl:212\n"
     ]
    }
   ],
   "cell_type": "code",
   "source": [
    "generate(\"pe-reads.fastq\", pe_w_errs)"
   ],
   "metadata": {},
   "execution_count": 8
  },
  {
   "outputs": [],
   "cell_type": "markdown",
   "source": [
    "## Constructing a pipeline of `Processors`.\n",
    "\n",
    "As a convenience, some users may prefer to use pipelines of `Processors`\n",
    "These behave like curried versions of the `Molecules` transformation methods.\n",
    "First let's define our starting `Molecules` pool:"
   ],
   "metadata": {}
  },
  {
   "outputs": [
    {
     "output_type": "execute_result",
     "data": {
      "text/plain": "Pool of 5000 DNA molecules:\n All molecules are of the same size: 4639675\n"
     },
     "metadata": {},
     "execution_count": 9
    }
   ],
   "cell_type": "code",
   "source": [
    "pool = Molecules(\"ecoli-ref.fasta\", 5000)"
   ],
   "metadata": {},
   "execution_count": 9
  },
  {
   "outputs": [],
   "cell_type": "markdown",
   "source": [
    "To make a Processor, use a `Molecules` transformation method, but do not\n",
    "provide a `Molecules` value as a first argument. So let's make Processors for\n",
    "each step of our paired end sequencing pipeline."
   ],
   "metadata": {}
  },
  {
   "outputs": [
    {
     "output_type": "execute_result",
     "data": {
      "text/plain": "Pseudoseq.Sequencing.SubSampler(463967)"
     },
     "metadata": {},
     "execution_count": 10
    }
   ],
   "cell_type": "code",
   "source": [
    "cutter = fragment(700)\n",
    "sampler = subsample(N) # Remember how to computed N previously."
   ],
   "metadata": {},
   "execution_count": 10
  },
  {
   "outputs": [],
   "cell_type": "markdown",
   "source": [
    "Next we can construct the pipeline using standard julia function pipelining syntax:"
   ],
   "metadata": {}
  },
  {
   "outputs": [
    {
     "output_type": "execute_result",
     "data": {
      "text/plain": "Pool of 463967 DNA molecules:\n Maximum molecule size: 8970\n Average molecule size: 699\n Minimum molecule size: 1\n"
     },
     "metadata": {},
     "execution_count": 11
    }
   ],
   "cell_type": "code",
   "source": [
    "pool |> cutter |> sampler"
   ],
   "metadata": {},
   "execution_count": 11
  },
  {
   "outputs": [],
   "cell_type": "markdown",
   "source": [
    "You can also compose the processors together into one whole function."
   ],
   "metadata": {}
  },
  {
   "outputs": [],
   "cell_type": "markdown",
   "source": [
    "\\circ."
   ],
   "metadata": {}
  },
  {
   "outputs": [],
   "cell_type": "markdown",
   "source": [
    "---\n",
    "\n",
    "*This notebook was generated using [Literate.jl](https://github.com/fredrikekre/Literate.jl).*"
   ],
   "metadata": {}
  }
 ],
 "nbformat_minor": 3,
 "metadata": {
  "language_info": {
   "file_extension": ".jl",
   "mimetype": "application/julia",
   "name": "julia",
   "version": "1.2.0"
  },
  "kernelspec": {
   "name": "julia-1.2",
   "display_name": "Julia 1.2.0",
   "language": "julia"
  }
 },
 "nbformat": 4
}
