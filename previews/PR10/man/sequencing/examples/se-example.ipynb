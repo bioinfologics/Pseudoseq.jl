{
 "cells": [
  {
   "outputs": [],
   "cell_type": "markdown",
   "source": [
    "# Example: long, single end reads\n",
    "\n",
    "This is an example generated from this source\n",
    "file: [`se-example.jl`](https://github.com/bioinfologics/Pseudoseq.jl/blob/masterexamples/sequencing/se-example.jl)\n",
    "You are seeing the\n",
    "jupyter notebook version. The corresponding online documentation page can\n",
    "be found here: [`se-example.html`](https://bioinfologics.github.io/Pseudoseq.jl/latest/examples/sequencing/se-example),\n",
    "and the script can be found here: [`se-example.jl`](./se-example.jl)"
   ],
   "metadata": {}
  },
  {
   "outputs": [],
   "cell_type": "markdown",
   "source": [
    "Let's see how you might simulate something like an Oxford Nanopore sequencing\n",
    "experiment.\n",
    "\n",
    "For the simulation we are going to:\n",
    "\n",
    "1. Create a pool of 5000 copies of a reference genome.\n",
    "2. Fragment the DNA molecules in the pool, to an average length of 40,000bp.\n",
    "3. Subsample the molecules in the pool to achieve approximatly 30x coverage.\n",
    "4. Create a set of single-end reads, the enitre length of each molecule.\n",
    "5. Apply errors to the reads at a rate of 0.10 (1 error every 10bp).\n",
    "6. Generate an output FASTQ file."
   ],
   "metadata": {}
  },
  {
   "outputs": [],
   "cell_type": "code",
   "source": [
    "using Pseudoseq"
   ],
   "metadata": {},
   "execution_count": 1
  },
  {
   "outputs": [],
   "cell_type": "markdown",
   "source": [
    "## Using the `sequence` method\n",
    "\n",
    "First, let's see how we do this with the `sequence` method.\n",
    "The first two parameters we give to the function will be the input genome we\n",
    "want to sequence, and the destination FASTQ file for output reads.\n",
    "Here we are setting:\n",
    "- The number of genome copies in the molecule pool to 5000.\n",
    "- The average fragment size to 40000bp.\n",
    "- The sampling coverage to 30x.\n",
    "- The read length to `nothing`, which will make the sequencer read the whole length of any DNA fragment.\n",
    "- The per base read error rate to 0.1.\n",
    "- The fact we want paired-ends of fragments to be read (`paired`) to false."
   ],
   "metadata": {}
  },
  {
   "outputs": [
    {
     "name": "stdout",
     "output_type": "stream",
     "text": [
      "┌ Info: - ✔ Created pool of 5000 copies of a 4639675bp genome\n",
      "└ @ Pseudoseq /home/runner/.julia/packages/Pseudoseq/W7Xvc/src/sequence.jl:45\n",
      "┌ Info: - ✔ Created pool of fragments with an average length of 40000bp\n",
      "└ @ Pseudoseq /home/runner/.julia/packages/Pseudoseq/W7Xvc/src/sequence.jl:55\n",
      "┌ Info: - ✔ Subsampled pool at 30X coverage (3479 molecules)\n",
      "└ @ Pseudoseq /home/runner/.julia/packages/Pseudoseq/W7Xvc/src/sequence.jl:62\n",
      "┌ Info: - ✔ Created set of single-end reads\n",
      "└ @ Pseudoseq /home/runner/.julia/packages/Pseudoseq/W7Xvc/src/sequence.jl:69\n",
      "┌ Info: - ✔ Applied sequencing errors at a per-base rate of 0.1\n",
      "└ @ Pseudoseq /home/runner/.julia/packages/Pseudoseq/W7Xvc/src/sequence.jl:73\n",
      "┌ Info: - ✔ Wrote 3479 single end reads to FASTQ file\n",
      "└ @ Pseudoseq /home/runner/.julia/packages/Pseudoseq/W7Xvc/src/reads.jl:311\n"
     ]
    },
    {
     "output_type": "execute_result",
     "data": {
      "text/plain": ""
     },
     "metadata": {},
     "execution_count": 2
    }
   ],
   "cell_type": "code",
   "source": [
    "sequence(\"ecoli-ref.fasta\", \"longreads.fastq\"; ng = 5000, flen = 40000, cov = 30, rdlen = nothing, err = 0.1, paired = false)"
   ],
   "metadata": {},
   "execution_count": 2
  },
  {
   "outputs": [],
   "cell_type": "markdown",
   "source": [
    "## Using the Pseudoseq API\n",
    "\n",
    "Here's how to achieve the same thing, using the Pseudoseq API. It is nessecery to\n",
    "use the API if you want to do something that is not anticipated by the available\n",
    "functionality of the `sequence` method: the cost of conveinience is fewer options.\n",
    "\n",
    "Let's start with a pool of 5000 copies of a genome contained in a FASTA file:"
   ],
   "metadata": {}
  },
  {
   "outputs": [
    {
     "output_type": "execute_result",
     "data": {
      "text/plain": "Pool of 5000 molecules:\n All molecules are of the same size: 4639675\n"
     },
     "metadata": {},
     "execution_count": 3
    }
   ],
   "cell_type": "code",
   "source": [
    "pool = makepool(\"ecoli-ref.fasta\", 5000)"
   ],
   "metadata": {},
   "execution_count": 3
  },
  {
   "outputs": [],
   "cell_type": "markdown",
   "source": [
    "Cut the pool of DNA into fragments of an average length of 40,000bp"
   ],
   "metadata": {}
  },
  {
   "outputs": [
    {
     "output_type": "execute_result",
     "data": {
      "text/plain": "Pool of 575000 molecules:\n Maximum molecule size: 525951\n Average molecule size: 40345\n Minimum molecule size: 1\n"
     },
     "metadata": {},
     "execution_count": 4
    }
   ],
   "cell_type": "code",
   "source": [
    "cutpool = fragment(pool, 40000)"
   ],
   "metadata": {},
   "execution_count": 4
  },
  {
   "outputs": [],
   "cell_type": "markdown",
   "source": [
    "Now we'll estimate the number of fragments we need to sample from the pool to\n",
    "achieve 30x coverage."
   ],
   "metadata": {}
  },
  {
   "outputs": [
    {
     "output_type": "execute_result",
     "data": {
      "text/plain": "Pool of 3479 molecules:\n Maximum molecule size: 342710\n Average molecule size: 40034\n Minimum molecule size: 5\n"
     },
     "metadata": {},
     "execution_count": 5
    }
   ],
   "cell_type": "code",
   "source": [
    "genome_size = 4639675\n",
    "expected_coverage = 30\n",
    "readlength = 40000\n",
    "\n",
    "N = needed_sample_size(expected_coverage, genome_size, readlength)\n",
    "\n",
    "sampledpool = subsample(cutpool, N)"
   ],
   "metadata": {},
   "execution_count": 5
  },
  {
   "outputs": [],
   "cell_type": "markdown",
   "source": [
    "By using the `make_reads` function without specifying a read length,\n",
    "the function will generate reads from the entire length of each molecule in\n",
    "the pool. We do this to emulate what Nanopore sequencing is supposed to do:\n",
    "It takes an entire DNA fragment, feeds it through an electrically charged\n",
    "pore, producing a read for the entire fragment."
   ],
   "metadata": {}
  },
  {
   "outputs": [
    {
     "output_type": "execute_result",
     "data": {
      "text/plain": ""
     },
     "metadata": {},
     "execution_count": 6
    }
   ],
   "cell_type": "code",
   "source": [
    "se_reads = make_reads(SingleEnd, sampledpool)"
   ],
   "metadata": {},
   "execution_count": 6
  },
  {
   "outputs": [],
   "cell_type": "markdown",
   "source": [
    "Long read sequencer have much higher error rates than short read sequencers\n",
    "so we use a error rate of 0.1."
   ],
   "metadata": {}
  },
  {
   "outputs": [
    {
     "output_type": "execute_result",
     "data": {
      "text/plain": ""
     },
     "metadata": {},
     "execution_count": 7
    }
   ],
   "cell_type": "code",
   "source": [
    "se_w_errs = mark_errors(se_reads, 0.1)"
   ],
   "metadata": {},
   "execution_count": 7
  },
  {
   "outputs": [],
   "cell_type": "markdown",
   "source": [
    "Finally produce the ouput FASTQ file."
   ],
   "metadata": {}
  },
  {
   "outputs": [
    {
     "name": "stdout",
     "output_type": "stream",
     "text": [
      "┌ Info: - ✔ Wrote 3479 single end reads to FASTQ file\n",
      "└ @ Pseudoseq /home/runner/.julia/packages/Pseudoseq/W7Xvc/src/reads.jl:311\n"
     ]
    }
   ],
   "cell_type": "code",
   "source": [
    "generate(\"longreads.fastq\", se_w_errs)"
   ],
   "metadata": {},
   "execution_count": 8
  },
  {
   "outputs": [],
   "cell_type": "markdown",
   "source": [
    "---\n",
    "\n",
    "*This notebook was generated using [Literate.jl](https://github.com/fredrikekre/Literate.jl).*"
   ],
   "metadata": {}
  }
 ],
 "nbformat_minor": 3,
 "metadata": {
  "language_info": {
   "file_extension": ".jl",
   "mimetype": "application/julia",
   "name": "julia",
   "version": "1.2.0"
  },
  "kernelspec": {
   "name": "julia-1.2",
   "display_name": "Julia 1.2.0",
   "language": "julia"
  }
 },
 "nbformat": 4
}
