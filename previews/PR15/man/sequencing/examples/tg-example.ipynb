{
 "cells": [
  {
   "cell_type": "markdown",
   "source": [
    "# Example: tagged paired-end reads\n",
    "\n",
    "This is an example generated from this source\n",
    "file: [`tg-example.jl`](https://github.com/bioinfologics/Pseudoseq.jl/blob/masterexamples/sequencing/tg-example.jl)\n",
    "You are seeing the\n",
    "jupyter notebook version. The corresponding online documentation page can\n",
    "be found here: [`tg-example.html`](https://bioinfologics.github.io/Pseudoseq.jl/latest/examples/sequencing/tg-example),\n",
    "and the script can be found here: [`tg-example.jl`](./tg-example.jl)"
   ],
   "metadata": {}
  },
  {
   "cell_type": "markdown",
   "source": [
    "Let's see how we might simulate something like an 10x sequencing experiment.\n",
    "\n",
    "For this simulation script we will:\n",
    "\n",
    "1. Create a pool of 5000 copies of a reference genome.\n",
    "2. Fragment the DNA molecules in the pool, to an average length of 40,000bp.\n",
    "3. Tag the long molecules in the pool randomly with a set of 1,000,000 tags.\n",
    "4. Fragment the molecules in the pool to an average length of 700bp.\n",
    "5. Subsample the molecules in the pool to achieve approximatly 50x coverage.\n",
    "6. Create a set of 250bp paired-end reads.\n",
    "7. Apply errors to the paired-end reads at a rate of 0.001 (.1%).\n",
    "8. Generate an output FASTQ file."
   ],
   "metadata": {}
  },
  {
   "outputs": [],
   "cell_type": "code",
   "source": [
    "using Pseudoseq.Sequencing"
   ],
   "metadata": {},
   "execution_count": 1
  },
  {
   "cell_type": "markdown",
   "source": [
    "## Using the `sequence` method\n",
    "\n",
    "First, let's see how we do this with the `sequence` method.\n",
    "The first two parameters we give to the function will be the input genome we\n",
    "want to sequence, and the destination FASTQ file for output reads.\n",
    "Here we are setting:\n",
    "- The number of genome copies in the molecule pool to 5,000.\n",
    "- The number of possible tags to one million.\n",
    "- The average fragment size, prior to tagging, to 40,000bp.\n",
    "- The average fragment size after tagging, to 700bp.\n",
    "- The sampling coverage to 50x.\n",
    "- The read length to 250bp.\n",
    "- The per base read error rate to 0.001.\n",
    "- The fact we want paired-ends of fragments to be read (`paired`) to true, which is the default."
   ],
   "metadata": {}
  },
  {
   "outputs": [
    {
     "name": "stdout",
     "output_type": "stream",
     "text": [
      "┌ Info: - ✔ Created pool of 5000 copies of a 4639675bp genome\n",
      "└ @ Pseudoseq.Sequencing /home/runner/.julia/packages/Pseudoseq/5S15A/src/sequencing/sequence.jl:45\n",
      "┌ Info: - ✔ Created pool of fragments with an average length of 40000bp\n",
      "└ @ Pseudoseq.Sequencing /home/runner/.julia/packages/Pseudoseq/5S15A/src/sequencing/sequence.jl:49\n",
      "┌ Info: Attaching 1000000 tags randomly to each molecule in pool...\n",
      "└ @ Pseudoseq.Sequencing /home/runner/.julia/packages/Pseudoseq/5S15A/src/sequencing/Molecules.jl:162\n",
      "┌ Info: Done\n",
      "└ @ Pseudoseq.Sequencing /home/runner/.julia/packages/Pseudoseq/5S15A/src/sequencing/Molecules.jl:164\n",
      "┌ Info: - ✔ Created pool of tagged fragments with an average length of 40000bp\n",
      "└ @ Pseudoseq.Sequencing /home/runner/.julia/packages/Pseudoseq/5S15A/src/sequencing/sequence.jl:51\n",
      "┌ Info: - ✔ Created pool of fragments with an average length of 700bp\n",
      "└ @ Pseudoseq.Sequencing /home/runner/.julia/packages/Pseudoseq/5S15A/src/sequencing/sequence.jl:55\n",
      "┌ Info: - ✔ Subsampled pool at 50X coverage (463967 molecules)\n",
      "└ @ Pseudoseq.Sequencing /home/runner/.julia/packages/Pseudoseq/5S15A/src/sequencing/sequence.jl:62\n",
      "┌ Info: - ✔ Created set of 250bp paired-end reads\n",
      "└ @ Pseudoseq.Sequencing /home/runner/.julia/packages/Pseudoseq/5S15A/src/sequencing/sequence.jl:66\n",
      "┌ Info: - ✔ Applied sequencing errors at a per-base rate of 0.1\n",
      "└ @ Pseudoseq.Sequencing /home/runner/.julia/packages/Pseudoseq/5S15A/src/sequencing/sequence.jl:73\n",
      "┌ Info: - ✔ Wrote 653906 tagged paired end reads to FASTQ file\n",
      "└ @ Pseudoseq.Sequencing /home/runner/.julia/packages/Pseudoseq/5S15A/src/sequencing/Reads.jl:318\n"
     ]
    },
    {
     "output_type": "execute_result",
     "data": {
      "text/plain": ""
     },
     "metadata": {},
     "execution_count": 2
    }
   ],
   "cell_type": "code",
   "source": [
    "sequence(\"ecoli-ref.fasta\", \"tagged_reads.fastq\"; ng = 5000, tusize = 1000000, taggedflen = 40000, flen = 700, cov = 50, rdlen = 250, err = 0.1)"
   ],
   "metadata": {},
   "execution_count": 2
  },
  {
   "cell_type": "markdown",
   "source": [
    "## Using the Pseudoseq API\n",
    "\n",
    "Here's how to achieve the same thing, using the Pseudoseq API. It is nessecery to\n",
    "use the API if you want to do something that is not anticipated by the available\n",
    "functionality of the `sequence` method: the cost of conveinience is fewer options.\n",
    "\n",
    "Let's start with a pool of 5000 copies of a genome contained in a FASTA file:"
   ],
   "metadata": {}
  },
  {
   "outputs": [
    {
     "output_type": "execute_result",
     "data": {
      "text/plain": "Pool of 5000 DNA molecules:\n All molecules are of the same size: 4639675\n"
     },
     "metadata": {},
     "execution_count": 3
    }
   ],
   "cell_type": "code",
   "source": [
    "dnapool = Molecules(\"ecoli-ref.fasta\", 5000)"
   ],
   "metadata": {},
   "execution_count": 3
  },
  {
   "cell_type": "markdown",
   "source": [
    "Now let's cut up the molecules to an average length of 40,000bp"
   ],
   "metadata": {}
  },
  {
   "outputs": [
    {
     "output_type": "execute_result",
     "data": {
      "text/plain": "Pool of 575000 DNA molecules:\n Maximum molecule size: 528686\n Average molecule size: 40345\n Minimum molecule size: 1\n"
     },
     "metadata": {},
     "execution_count": 4
    }
   ],
   "cell_type": "code",
   "source": [
    "cutpool = fragment(dnapool, 40000)"
   ],
   "metadata": {},
   "execution_count": 4
  },
  {
   "cell_type": "markdown",
   "source": [
    "Ok, now we will tag these large fragments randomly.\n",
    "Once you tag a fragment in a universe, any other fragments that\n",
    "are derived from that tagged fragment will inherit the same tag."
   ],
   "metadata": {}
  },
  {
   "outputs": [
    {
     "name": "stdout",
     "output_type": "stream",
     "text": [
      "┌ Info: Attaching 1000000 tags randomly to each molecule in pool...\n",
      "└ @ Pseudoseq.Sequencing /home/runner/.julia/packages/Pseudoseq/5S15A/src/sequencing/Molecules.jl:162\n",
      "┌ Info: Done\n",
      "└ @ Pseudoseq.Sequencing /home/runner/.julia/packages/Pseudoseq/5S15A/src/sequencing/Molecules.jl:164\n"
     ]
    },
    {
     "output_type": "execute_result",
     "data": {
      "text/plain": "Pool of 575000 DNA molecules:\n Maximum molecule size: 528686\n Average molecule size: 40345\n Minimum molecule size: 1\n Number of distinct tags: 436797\n"
     },
     "metadata": {},
     "execution_count": 5
    }
   ],
   "cell_type": "code",
   "source": [
    "taggedpool = tag(cutpool, 1000000)"
   ],
   "metadata": {},
   "execution_count": 5
  },
  {
   "cell_type": "markdown",
   "source": [
    "Here I'm going to use a pool of 1,000,000 distinct tags.\n",
    "Which fragment gets a certain tag is random.\n",
    "The size of the tag pool, and the number of fragments in your universe will\n",
    "determine how likely it is that any two fragments get the same tag.\n",
    "Now we'll fragment the pool again"
   ],
   "metadata": {}
  },
  {
   "outputs": [
    {
     "output_type": "execute_result",
     "data": {
      "text/plain": "Pool of 32863393 DNA molecules:\n Maximum molecule size: 11209\n Average molecule size: 705\n Minimum molecule size: 1\n Number of distinct tags: 436797\n"
     },
     "metadata": {},
     "execution_count": 6
    }
   ],
   "cell_type": "code",
   "source": [
    "taggedcutpool = fragment(taggedpool, 700)"
   ],
   "metadata": {},
   "execution_count": 6
  },
  {
   "cell_type": "markdown",
   "source": [
    "Subsample the pool of tagged molecules."
   ],
   "metadata": {}
  },
  {
   "outputs": [
    {
     "output_type": "execute_result",
     "data": {
      "text/plain": "Pool of 463967 DNA molecules:\n Maximum molecule size: 9593\n Average molecule size: 705\n Minimum molecule size: 1\n Number of distinct tags: 227216\n"
     },
     "metadata": {},
     "execution_count": 7
    }
   ],
   "cell_type": "code",
   "source": [
    "genome_size = 4639675\n",
    "expected_coverage = 50\n",
    "read_length = 250\n",
    "\n",
    "N = needed_sample_size(expected_coverage, genome_size, read_length)\n",
    "N = div(N, 2) # Divide by 2 as we're doing paired end sequencing.\n",
    "\n",
    "sampledpool = subsample(taggedcutpool, N)"
   ],
   "metadata": {},
   "execution_count": 7
  },
  {
   "cell_type": "markdown",
   "source": [
    "Now let's make some 250bp tagged paired reads and generate some erroneous\n",
    "positions.\n",
    "We will construct a `FixedProbSubstitutions` function with a per base error\n",
    "probability of 0.001 and pass it to the `edit_substitutions` method."
   ],
   "metadata": {}
  },
  {
   "outputs": [
    {
     "output_type": "execute_result",
     "data": {
      "text/plain": ""
     },
     "metadata": {},
     "execution_count": 8
    }
   ],
   "cell_type": "code",
   "source": [
    "tagged_reads = paired_reads(sampledpool, 250)\n",
    "f = FixedProbSubstitutions(0.001)\n",
    "tagged_w_errs = edit_substitutions(f, tagged_reads)"
   ],
   "metadata": {},
   "execution_count": 8
  },
  {
   "cell_type": "markdown",
   "source": [
    "Output to FASTQ:"
   ],
   "metadata": {}
  },
  {
   "outputs": [
    {
     "name": "stdout",
     "output_type": "stream",
     "text": [
      "┌ Info: - ✔ Wrote 654516 tagged paired end reads to FASTQ file\n",
      "└ @ Pseudoseq.Sequencing /home/runner/.julia/packages/Pseudoseq/5S15A/src/sequencing/Reads.jl:318\n"
     ]
    }
   ],
   "cell_type": "code",
   "source": [
    "generate(\"tagged_reads.fastq\", tagged_w_errs)"
   ],
   "metadata": {},
   "execution_count": 9
  },
  {
   "cell_type": "markdown",
   "source": [
    "## Constructing a pipeline of `Processors`.\n",
    "\n",
    "As a convenience, some users may prefer to use pipelines of `Processors`\n",
    "These behave like curried versions of the `Molecules` transformation methods.\n",
    "First let's define our starting `Molecules` pool:"
   ],
   "metadata": {}
  },
  {
   "outputs": [
    {
     "output_type": "execute_result",
     "data": {
      "text/plain": "Pool of 5000 DNA molecules:\n All molecules are of the same size: 4639675\n"
     },
     "metadata": {},
     "execution_count": 10
    }
   ],
   "cell_type": "code",
   "source": [
    "pool = Molecules(\"ecoli-ref.fasta\", 5000)"
   ],
   "metadata": {},
   "execution_count": 10
  },
  {
   "cell_type": "markdown",
   "source": [
    "To make a Processor, use a `Molecules` transformation method, but do not\n",
    "provide a `Molecules` value as a first argument. So let's make Processors for\n",
    "each step of our paired-end, tagged-read, sequencing pipeline."
   ],
   "metadata": {}
  },
  {
   "outputs": [
    {
     "output_type": "execute_result",
     "data": {
      "text/plain": "Pseudoseq.Sequencing.SubstitutionMaker{Pseudoseq.Sequencing.FixedProbSubstitutions}(Pseudoseq.Sequencing.FixedProbSubstitutions(0.001))"
     },
     "metadata": {},
     "execution_count": 11
    }
   ],
   "cell_type": "code",
   "source": [
    "cutter_a = fragment(40000)\n",
    "tagger = tag(1000000)\n",
    "cutter_b = fragment(700)\n",
    "sampler = subsample(N) # Remember how to computed N previously.\n",
    "mkreads = paired_reads(250)\n",
    "adderr = make_substitutions(FixedProbSubstitutions(0.001))"
   ],
   "metadata": {},
   "execution_count": 11
  },
  {
   "cell_type": "markdown",
   "source": [
    "Next we can construct the pipeline using standard julia function pipelining syntax:"
   ],
   "metadata": {}
  },
  {
   "outputs": [
    {
     "name": "stdout",
     "output_type": "stream",
     "text": [
      "┌ Info: Attaching 1000000 tags randomly to each molecule in pool...\n",
      "└ @ Pseudoseq.Sequencing /home/runner/.julia/packages/Pseudoseq/5S15A/src/sequencing/Molecules.jl:162\n",
      "┌ Info: Done\n",
      "└ @ Pseudoseq.Sequencing /home/runner/.julia/packages/Pseudoseq/5S15A/src/sequencing/Molecules.jl:164\n",
      "┌ Info: - ✔ Wrote 654580 tagged paired end reads to FASTQ file\n",
      "└ @ Pseudoseq.Sequencing /home/runner/.julia/packages/Pseudoseq/5S15A/src/sequencing/Reads.jl:318\n"
     ]
    }
   ],
   "cell_type": "code",
   "source": [
    "pool |> cutter_a |> tagger |> cutter_b |> sampler |> mkreads |> adderr |> generate(\"tagged_reads.fastq\")"
   ],
   "metadata": {},
   "execution_count": 12
  },
  {
   "cell_type": "markdown",
   "source": [
    "You can also compose the processors together into one whole function.\n",
    "Typing \\circ in the julia repl and then hitting tab gives you the circular\n",
    "composition symbol. Note how pipelining above progresses from left to right,\n",
    "but composition is right to left in order."
   ],
   "metadata": {}
  },
  {
   "outputs": [
    {
     "name": "stdout",
     "output_type": "stream",
     "text": [
      "┌ Info: Attaching 1000000 tags randomly to each molecule in pool...\n",
      "└ @ Pseudoseq.Sequencing /home/runner/.julia/packages/Pseudoseq/5S15A/src/sequencing/Molecules.jl:162\n",
      "┌ Info: Done\n",
      "└ @ Pseudoseq.Sequencing /home/runner/.julia/packages/Pseudoseq/5S15A/src/sequencing/Molecules.jl:164\n",
      "┌ Info: - ✔ Wrote 654442 tagged paired end reads to FASTQ file\n",
      "└ @ Pseudoseq.Sequencing /home/runner/.julia/packages/Pseudoseq/5S15A/src/sequencing/Reads.jl:318\n"
     ]
    }
   ],
   "cell_type": "code",
   "source": [
    "my_protocol = adderr ∘ mkreads ∘ sampler ∘ cutter_b ∘ tagger ∘ cutter_a\n",
    "\n",
    "pool |> my_protocol |> generate(\"tagged_reads.fastq\")"
   ],
   "metadata": {},
   "execution_count": 13
  },
  {
   "cell_type": "markdown",
   "source": [
    "---\n",
    "\n",
    "*This notebook was generated using [Literate.jl](https://github.com/fredrikekre/Literate.jl).*"
   ],
   "metadata": {}
  }
 ],
 "nbformat_minor": 3,
 "metadata": {
  "language_info": {
   "file_extension": ".jl",
   "mimetype": "application/julia",
   "name": "julia",
   "version": "1.2.0"
  },
  "kernelspec": {
   "name": "julia-1.2",
   "display_name": "Julia 1.2.0",
   "language": "julia"
  }
 },
 "nbformat": 4
}
